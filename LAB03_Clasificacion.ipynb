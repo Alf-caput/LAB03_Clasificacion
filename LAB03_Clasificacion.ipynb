{
 "cells": [
  {
   "cell_type": "markdown",
   "metadata": {},
   "source": [
    "Descomprimimos la carpeta comprimida Malware.zip"
   ]
  },
  {
   "cell_type": "code",
   "execution_count": 2,
   "metadata": {},
   "outputs": [],
   "source": [
    "from zipfile import ZipFile\n",
    "import os\n",
    "\n",
    "zip_filename = 'Recursos Lab3.zip'\n",
    "base_dir = os.path.splitext(zip_filename)[0] + '/'\n",
    "\n",
    "if not os.path.exists(base_dir):\n",
    "    with ZipFile(zip_filename, 'r') as zf:\n",
    "        for file in zf.namelist():\n",
    "            if file.startswith(base_dir):\n",
    "                zf.extract(file) "
   ]
  },
  {
   "cell_type": "code",
   "execution_count": 3,
   "metadata": {},
   "outputs": [],
   "source": [
    "import os\n",
    "import zipfile\n",
    "\n",
    "zip_filename = 'Malware.zip'\n",
    "output_dir = os.path.splitext(zip_filename)[0] + '/'\n",
    "output_dir = os.path.join(base_dir, output_dir)\n",
    "\n",
    "if not os.path.exists(output_dir):\n",
    "    with zipfile.ZipFile(os.path.join(base_dir, zip_filename)) as zf:\n",
    "        zf.extractall(path=base_dir)"
   ]
  },
  {
   "cell_type": "code",
   "execution_count": 51,
   "metadata": {},
   "outputs": [],
   "source": [
    "import cv2\n",
    "\n",
    "data = dict()\n",
    "for label in os.listdir(output_dir):\n",
    "    data[label] = []\n",
    "    class_dir = os.path.join(output_dir, label)\n",
    "    for image in os.listdir(class_dir):\n",
    "        image = cv2.imread(os.path.join(class_dir, image), cv2.IMREAD_GRAYSCALE)        \n",
    "        data[label].append(image)"
   ]
  },
  {
   "cell_type": "code",
   "execution_count": 52,
   "metadata": {},
   "outputs": [
    {
     "name": "stdout",
     "output_type": "stream",
     "text": [
      "(257, 64)\n",
      "(273, 384)\n",
      "(400, 64)\n",
      "(683, 768)\n"
     ]
    }
   ],
   "source": [
    "for label in os.listdir(output_dir):\n",
    "    print(data[label][0].shape)"
   ]
  },
  {
   "cell_type": "code",
   "execution_count": null,
   "metadata": {},
   "outputs": [],
   "source": []
  }
 ],
 "metadata": {
  "kernelspec": {
   "display_name": ".venv",
   "language": "python",
   "name": "python3"
  },
  "language_info": {
   "codemirror_mode": {
    "name": "ipython",
    "version": 3
   },
   "file_extension": ".py",
   "mimetype": "text/x-python",
   "name": "python",
   "nbconvert_exporter": "python",
   "pygments_lexer": "ipython3",
   "version": "3.11.4"
  }
 },
 "nbformat": 4,
 "nbformat_minor": 2
}
